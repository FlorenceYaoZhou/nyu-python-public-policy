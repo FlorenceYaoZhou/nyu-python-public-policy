{
  "nbformat": 4,
  "nbformat_minor": 0,
  "metadata": {
    "colab": {
      "name": "HW3.ipynb",
      "provenance": []
    },
    "kernelspec": {
      "name": "python3",
      "display_name": "Python 3"
    }
  },
  "cells": [
    {
      "cell_type": "code",
      "metadata": {
        "id": "kHx0WwCdRmgY",
        "colab_type": "code",
        "colab": {}
      },
      "source": [
        "import pandas as pd\n",
        "from google.colab import drive"
      ],
      "execution_count": 0,
      "outputs": []
    },
    {
      "cell_type": "code",
      "metadata": {
        "id": "0l5KZtOcR1fp",
        "colab_type": "code",
        "colab": {
          "base_uri": "https://localhost:8080/",
          "height": 122
        },
        "outputId": "fcc8487c-caa7-4836-caf7-50811ab9a294"
      },
      "source": [
        "drive.mount('/content/drive')"
      ],
      "execution_count": 2,
      "outputs": [
        {
          "output_type": "stream",
          "text": [
            "Go to this URL in a browser: https://accounts.google.com/o/oauth2/auth?client_id=947318989803-6bn6qk8qdgf4n4g3pfee6491hc0brc4i.apps.googleusercontent.com&redirect_uri=urn%3Aietf%3Awg%3Aoauth%3A2.0%3Aoob&scope=email%20https%3A%2F%2Fwww.googleapis.com%2Fauth%2Fdocs.test%20https%3A%2F%2Fwww.googleapis.com%2Fauth%2Fdrive%20https%3A%2F%2Fwww.googleapis.com%2Fauth%2Fdrive.photos.readonly%20https%3A%2F%2Fwww.googleapis.com%2Fauth%2Fpeopleapi.readonly&response_type=code\n",
            "\n",
            "Enter your authorization code:\n",
            "··········\n",
            "Mounted at /content/drive\n"
          ],
          "name": "stdout"
        }
      ]
    },
    {
      "cell_type": "code",
      "metadata": {
        "id": "GKLK1dA8R7MQ",
        "colab_type": "code",
        "colab": {}
      },
      "source": [
        "df = pd.read_csv('/content/drive/My Drive/Data for Python/cleaned_311_data_hw3.csv', header = 'infer')"
      ],
      "execution_count": 0,
      "outputs": []
    },
    {
      "cell_type": "code",
      "metadata": {
        "id": "FU2zl3K8STKs",
        "colab_type": "code",
        "colab": {}
      },
      "source": [
        "df.descriptor = df.descriptor.str.lower()\n",
        "df.complaint_type = df.complaint_type.str.lower()"
      ],
      "execution_count": 0,
      "outputs": []
    },
    {
      "cell_type": "markdown",
      "metadata": {
        "id": "GRkefXF4Vc9h",
        "colab_type": "text"
      },
      "source": [
        "Q1:"
      ]
    },
    {
      "cell_type": "code",
      "metadata": {
        "id": "yrpIJrTZSoDx",
        "colab_type": "code",
        "colab": {}
      },
      "source": [
        "def contains_graffiti(row):\n",
        "  if pd.notnull(row.descriptor):\n",
        "    if 'graffiti' in row.complaint_type and row.complaint_type != 'NaN':\n",
        "      return 'true'\n",
        "    elif 'graffiti' in row.descriptor and row.descriptor != 'NaN':\n",
        "      return 'true'\n",
        "    else: \n",
        "      return 'false'"
      ],
      "execution_count": 0,
      "outputs": []
    },
    {
      "cell_type": "markdown",
      "metadata": {
        "id": "Q-i3SGIkVi5I",
        "colab_type": "text"
      },
      "source": [
        "Q2:"
      ]
    },
    {
      "cell_type": "code",
      "metadata": {
        "id": "4Ah9EPUPUUoe",
        "colab_type": "code",
        "colab": {}
      },
      "source": [
        "df['graffiti_flag'] = df.apply(contains_graffiti, axis= 1)"
      ],
      "execution_count": 0,
      "outputs": []
    },
    {
      "cell_type": "markdown",
      "metadata": {
        "id": "OmQiyznpVoLW",
        "colab_type": "text"
      },
      "source": [
        "Q3:"
      ]
    },
    {
      "cell_type": "code",
      "metadata": {
        "id": "8pWpEXAuU4wX",
        "colab_type": "code",
        "colab": {}
      },
      "source": [
        "df_graffiti = df[df.graffiti_flag == 'true']"
      ],
      "execution_count": 0,
      "outputs": []
    },
    {
      "cell_type": "markdown",
      "metadata": {
        "id": "McBqMpesWEqf",
        "colab_type": "text"
      },
      "source": [
        "Q4:"
      ]
    },
    {
      "cell_type": "code",
      "metadata": {
        "id": "zOxA8lM1Vo2m",
        "colab_type": "code",
        "colab": {
          "base_uri": "https://localhost:8080/",
          "height": 136
        },
        "outputId": "57f57dbe-2602-4fda-9d47-4b78a314d2cd"
      },
      "source": [
        "df_graffiti.groupby('community_board').size().nlargest()"
      ],
      "execution_count": 11,
      "outputs": [
        {
          "output_type": "execute_result",
          "data": {
            "text/plain": [
              "community_board\n",
              "01 BROOKLYN     1797\n",
              "03 MANHATTAN    1593\n",
              "04 BROOKLYN     1429\n",
              "03 BROOKLYN     1252\n",
              "05 BROOKLYN      962\n",
              "dtype: int64"
            ]
          },
          "metadata": {
            "tags": []
          },
          "execution_count": 11
        }
      ]
    },
    {
      "cell_type": "code",
      "metadata": {
        "id": "R37Z-nbAWFk9",
        "colab_type": "code",
        "colab": {}
      },
      "source": [
        ""
      ],
      "execution_count": 0,
      "outputs": []
    }
  ]
}